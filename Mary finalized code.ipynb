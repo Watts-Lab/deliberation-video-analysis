{
 "cells": [
  {
   "cell_type": "code",
   "execution_count": 1,
   "metadata": {},
   "outputs": [],
   "source": [
    "from os import path\n",
    "import glob\n",
    "import re\n",
    "import matplotlib.pyplot as plt\n",
    "import subprocess"
   ]
  },
  {
   "cell_type": "code",
   "execution_count": 2,
   "metadata": {},
   "outputs": [
    {
     "data": {
      "text/plain": [
       "['files/test_video_2/1674660535410-2428b340-9dc1-40e7-831c-0703795b3307-cam-audio-1674660538423.webm',\n",
       " 'files/test_video_2/1674660535410-2428b340-9dc1-40e7-831c-0703795b3307-cam-video-1674660538745-merged.mp4',\n",
       " 'files/test_video_2/1674660535410-2428b340-9dc1-40e7-831c-0703795b3307-cam-video-1674660538745.mp4',\n",
       " 'files/test_video_2/1674660535410-2428b340-9dc1-40e7-831c-0703795b3307-cam-video-1674660538745.webm',\n",
       " 'files/test_video_2/1674660535410-a7b0bec8-a1fd-4f9a-a922-e20bd56a539b-cam-audio-1674660537992.webm',\n",
       " 'files/test_video_2/1674660535410-a7b0bec8-a1fd-4f9a-a922-e20bd56a539b-cam-video-1674660537995-merged.mp4',\n",
       " 'files/test_video_2/1674660535410-a7b0bec8-a1fd-4f9a-a922-e20bd56a539b-cam-video-1674660537995.mp4',\n",
       " 'files/test_video_2/1674660535410-a7b0bec8-a1fd-4f9a-a922-e20bd56a539b-cam-video-1674660537995.webm',\n",
       " 'files/test_video_2/1674660535410-ae4d075b-39b6-48ec-a7c0-868d6fd06afe-cam-audio-1674660543681.webm',\n",
       " 'files/test_video_2/1674660535410-ae4d075b-39b6-48ec-a7c0-868d6fd06afe-cam-video-1674660544002-merged.mp4',\n",
       " 'files/test_video_2/1674660535410-ae4d075b-39b6-48ec-a7c0-868d6fd06afe-cam-video-1674660544002.mp4',\n",
       " 'files/test_video_2/1674660535410-ae4d075b-39b6-48ec-a7c0-868d6fd06afe-cam-video-1674660544002.webm',\n",
       " 'files/test_video_2/output_video.mp4',\n",
       " 'files/test_video_2/output_video_OLD.mp4',\n",
       " 'files/test_video_2/test_video_2_ffmpeg_resampled_person1.mp4',\n",
       " 'files/test_video_2/test_video_2_ffmpeg_resampled_person2.mp4',\n",
       " 'files/test_video_2/test_video_2_ffmpeg_resampled_person3.mp4']"
      ]
     },
     "execution_count": 2,
     "metadata": {},
     "output_type": "execute_result"
    }
   ],
   "source": [
    "folder = 'test_video_2'\n",
    "files = glob.glob(f'files/{folder}/*')\n",
    "files.sort()\n",
    "files"
   ]
  },
  {
   "cell_type": "code",
   "execution_count": 3,
   "metadata": {},
   "outputs": [
    {
     "name": "stdout",
     "output_type": "stream",
     "text": [
      "  Duration: N/A, start: 2.871000, bitrate: N/A\n",
      "  Duration: N/A, start: 4.170000, bitrate: N/A\n",
      "  Duration: N/A, start: 2.445000, bitrate: N/A\n",
      "  Duration: N/A, start: 2.982000, bitrate: N/A\n",
      "  Duration: N/A, start: 8.123000, bitrate: N/A\n",
      "  Duration: N/A, start: 9.589000, bitrate: N/A\n"
     ]
    },
    {
     "data": {
      "text/plain": [
       "{'2428b340-9dc1-40e7-831c-0703795b3307': {'participant_id': '2428b340-9dc1-40e7-831c-0703795b3307',\n",
       "  'group_start': 1674660535410,\n",
       "  'dirname': 'files/test_video_2',\n",
       "  'audio_track_start': '2.871000',\n",
       "  'audio': 'files/test_video_2/1674660535410-2428b340-9dc1-40e7-831c-0703795b3307-cam-audio-1674660538423.webm',\n",
       "  'audio_start': 1674660538423,\n",
       "  'audio_offset': 3013,\n",
       "  'video_track_start': '4.170000',\n",
       "  'video_resolution': '1280x720',\n",
       "  'video': 'files/test_video_2/1674660535410-2428b340-9dc1-40e7-831c-0703795b3307-cam-video-1674660538745.webm',\n",
       "  'video_start': 1674660538745,\n",
       "  'video_offset': 3335},\n",
       " 'a7b0bec8-a1fd-4f9a-a922-e20bd56a539b': {'participant_id': 'a7b0bec8-a1fd-4f9a-a922-e20bd56a539b',\n",
       "  'group_start': 1674660535410,\n",
       "  'dirname': 'files/test_video_2',\n",
       "  'audio_track_start': '2.445000',\n",
       "  'audio': 'files/test_video_2/1674660535410-a7b0bec8-a1fd-4f9a-a922-e20bd56a539b-cam-audio-1674660537992.webm',\n",
       "  'audio_start': 1674660537992,\n",
       "  'audio_offset': 2582,\n",
       "  'video_track_start': '2.982000',\n",
       "  'video_resolution': '1280x720',\n",
       "  'video': 'files/test_video_2/1674660535410-a7b0bec8-a1fd-4f9a-a922-e20bd56a539b-cam-video-1674660537995.webm',\n",
       "  'video_start': 1674660537995,\n",
       "  'video_offset': 2585},\n",
       " 'ae4d075b-39b6-48ec-a7c0-868d6fd06afe': {'participant_id': 'ae4d075b-39b6-48ec-a7c0-868d6fd06afe',\n",
       "  'group_start': 1674660535410,\n",
       "  'dirname': 'files/test_video_2',\n",
       "  'audio_track_start': '8.123000',\n",
       "  'audio': 'files/test_video_2/1674660535410-ae4d075b-39b6-48ec-a7c0-868d6fd06afe-cam-audio-1674660543681.webm',\n",
       "  'audio_start': 1674660543681,\n",
       "  'audio_offset': 8271,\n",
       "  'video_track_start': '9.589000',\n",
       "  'video_resolution': '1280x720',\n",
       "  'video': 'files/test_video_2/1674660535410-ae4d075b-39b6-48ec-a7c0-868d6fd06afe-cam-video-1674660544002.webm',\n",
       "  'video_start': 1674660544002,\n",
       "  'video_offset': 8592}}"
      ]
     },
     "execution_count": 3,
     "metadata": {},
     "output_type": "execute_result"
    }
   ],
   "source": [
    "import subprocess\n",
    "\n",
    "group_data = {}\n",
    "for filepath in files:\n",
    "    if \".webm\" not in filepath:\n",
    "        continue\n",
    "    basename = path.basename(filepath)\n",
    "    participant_id = \"-\".join(basename.split(\"-\")[1:-3])\n",
    "    track_type = basename.split(\"-\")[-2]\n",
    "    track_start = int(basename.split(\"-\")[-1].split(\".\")[0])\n",
    "    group_start = int(basename.split(\"-\")[0])\n",
    "\n",
    "    if participant_id not in group_data:\n",
    "        group_data[participant_id] = {\n",
    "        \"participant_id\": participant_id,\n",
    "        \"group_start\": int(basename.split(\"-\")[0]),\n",
    "        \"dirname\": path.dirname(filepath),\n",
    "    }\n",
    "        \n",
    "    result = subprocess.run(['ffprobe', filepath], stdout=subprocess.PIPE, stderr=subprocess.PIPE, text=True)\n",
    "    probe = result.stderr.splitlines()\n",
    "    # get start offset\n",
    "    line = [line  for line in probe if \"start: \" in line][0]\n",
    "    print(line)\n",
    "    start = re.search(r'start: (\\d+\\.\\d+)', line).group(1)\n",
    "    group_data[participant_id][track_type+\"_track_start\"] = start\n",
    "\n",
    "    if track_type == \"video\":\n",
    "        # get resolution\n",
    "        line = [line  for line in probe if \"Stream \" in line][0]\n",
    "        resolution = re.search(r'\\d+x\\d+', line).group(0)\n",
    "        group_data[participant_id][track_type+\"_resolution\"] = resolution\n",
    "\n",
    "\n",
    "    group_data[participant_id][track_type] = filepath\n",
    "    group_data[participant_id][track_type+\"_start\"] = track_start\n",
    "    group_data[participant_id][track_type+\"_offset\"] = track_start - group_start\n",
    "\n",
    "\n",
    "group_data"
   ]
  },
  {
   "cell_type": "markdown",
   "metadata": {},
   "source": [
    "# FFMPEG notes:\n",
    "\n",
    "\n",
    "## Commands\n",
    "- commands generally list inputs with `-i filename` then have filters, then have and output.\n",
    "- Flags for inputs (or outputs) go in front of the input (output) they apply to, and if you have multiple inputs you can apply the flag to then individually\n",
    "\n",
    "## Filters\n",
    "- ffmpeg filters are made of chains of different filters. Different chains are separated by a semicolon, filters within a chain by a comma\n",
    "- filter consists of selectors (e.g.`[0:a][1:a]` etc.) then filter commands, then outputs []\n",
    "\n",
    "### Audio\n",
    "\n",
    "#### To split a stereo to mono:\n",
    "```\n",
    "ffmpeg -i stereo.wav -filter_complex \"[0:a]channelsplit=channel_layout=stereo:channels=FR[right]\" -map \"[right]\" front_right.wav\n",
    "```\n",
    "\n",
    "#### To merge 6 mono tracks to one multichannel output\n",
    "```\n",
    "ffmpeg -i front_left.wav -i front_right.wav -i front_center.wav -i lfe.wav -i back_left.wav -i back_right.wav \\\n",
    "-filter_complex \"[0:a][1:a][2:a][3:a][4:a][5:a]join=inputs=6:channel_layout=5.1[a]\" -map \"[a]\" output.wav\n",
    "```\n",
    "\n",
    "#### combine all audio tracks into one audio track\n",
    "- use the amerge filter to take audio streams from different files and add them as separate streams to the output\n",
    "```\n",
    "[0:a][1:a]amerge=inputs=2,\n",
    "```\n",
    "the output of this can be fed to a single stereo stream:\n",
    "```\n",
    "pan=mono|c0<c0+c1+c2+c3|\n",
    "```\n",
    "\n",
    "### Video\n",
    "\n",
    "#### Stack videos:\n",
    "https://ffmpeg.org/ffmpeg-filters.html#xstack-1"
   ]
  },
  {
   "cell_type": "markdown",
   "metadata": {},
   "source": [
    "# Reframe each video independently\n",
    "The problem was that when one webm file has problems, all the rest get stalled out too. a workaround is to resample all the videos at a constant frame rate prior to stitching them together. This is annoying, but kinda works?"
   ]
  },
  {
   "cell_type": "code",
   "execution_count": 4,
   "metadata": {},
   "outputs": [
    {
     "name": "stdout",
     "output_type": "stream",
     "text": [
      "files/test_video_2/1674660535410-2428b340-9dc1-40e7-831c-0703795b3307-cam-video-1674660538745.webm files/test_video_2/1674660535410-2428b340-9dc1-40e7-831c-0703795b3307-cam-video-1674660538745.mp4\n"
     ]
    },
    {
     "name": "stderr",
     "output_type": "stream",
     "text": [
      "ffmpeg version 4.2.2 Copyright (c) 2000-2019 the FFmpeg developers\n",
      "  built with clang version 4.0.1 (tags/RELEASE_401/final)\n",
      "  configuration: --prefix=/opt/concourse/worker/volumes/live/d5b9ea1c-8223-4ff6-7416-83e6b4cd6874/volume/ffmpeg_1587154914508/_h_env_placehold_placehold_placehold_placehold_placehold_placehold_placehold_placehold_placehold_placehold_placehold_placehold_placehold_placehold_placehol --cc=x86_64-apple-darwin13.4.0-clang --disable-doc --enable-avresample --enable-gmp --enable-hardcoded-tables --enable-libfreetype --enable-libvpx --enable-pthreads --enable-libopus --enable-postproc --enable-pic --enable-pthreads --enable-shared --enable-static --enable-version3 --enable-zlib --enable-libmp3lame --disable-nonfree --enable-gpl --enable-gnutls --disable-openssl --enable-libopenh264 --enable-libx264\n",
      "  libavutil      56. 31.100 / 56. 31.100\n",
      "  libavcodec     58. 54.100 / 58. 54.100\n",
      "  libavformat    58. 29.100 / 58. 29.100\n",
      "  libavdevice    58.  8.100 / 58.  8.100\n",
      "  libavfilter     7. 57.100 /  7. 57.100\n",
      "  libavresample   4.  0.  0 /  4.  0.  0\n",
      "  libswscale      5.  5.100 /  5.  5.100\n",
      "  libswresample   3.  5.100 /  3.  5.100\n",
      "  libpostproc    55.  5.100 / 55.  5.100\n",
      "Input #0, matroska,webm, from 'files/test_video_2/1674660535410-2428b340-9dc1-40e7-831c-0703795b3307-cam-video-1674660538745.webm':\n",
      "  Metadata:\n",
      "    encoder         : GStreamer matroskamux version 1.20.0\n",
      "    creation_time   : 2023-01-25T15:29:00.362667Z\n",
      "  Duration: N/A, start: 4.170000, bitrate: N/A\n",
      "    Stream #0:0(eng): Video: vp8, yuv420p(progressive), 1280x720, SAR 1:1 DAR 16:9, 1k tbr, 1k tbn, 1k tbc (default)\n",
      "    Metadata:\n",
      "      title           : Video\n",
      "Stream mapping:\n",
      "  Stream #0:0 -> #0:0 (vp8 (native) -> h264 (libx264))\n",
      "Press [q] to stop, [?] for help\n",
      "[libx264 @ 0x7fa1fb80dc00] using SAR=1/1\n",
      "[libx264 @ 0x7fa1fb80dc00] using cpu capabilities: MMX2 SSE2Fast SSSE3 SSE4.2 AVX FMA3 BMI2 AVX2\n",
      "[libx264 @ 0x7fa1fb80dc00] profile High, level 3.1, 4:2:0, 8-bit\n",
      "[libx264 @ 0x7fa1fb80dc00] 264 - core 157 - H.264/MPEG-4 AVC codec - Copyleft 2003-2018 - http://www.videolan.org/x264.html - options: cabac=1 ref=3 deblock=1:0:0 analyse=0x3:0x113 me=hex subme=7 psy=1 psy_rd=1.00:0.00 mixed_ref=1 me_range=16 chroma_me=1 trellis=1 8x8dct=1 cqm=0 deadzone=21,11 fast_pskip=1 chroma_qp_offset=-2 threads=12 lookahead_threads=2 sliced_threads=0 nr=0 decimate=1 interlaced=0 bluray_compat=0 constrained_intra=0 bframes=3 b_pyramid=2 b_adapt=1 b_bias=0 direct=1 weightb=1 open_gop=0 weightp=2 keyint=250 keyint_min=24 scenecut=40 intra_refresh=0 rc_lookahead=40 rc=crf mbtree=1 crf=23.0 qcomp=0.60 qpmin=0 qpmax=69 qpstep=4 ip_ratio=1.40 aq=1:1.00\n",
      "Output #0, mp4, to 'files/test_video_2/1674660535410-2428b340-9dc1-40e7-831c-0703795b3307-cam-video-1674660538745.mp4':\n",
      "  Metadata:\n",
      "    encoder         : Lavf58.29.100\n",
      "    Stream #0:0(eng): Video: h264 (libx264) (avc1 / 0x31637661), yuv420p, 1280x720 [SAR 1:1 DAR 16:9], q=-1--1, 24 fps, 12288 tbn, 24 tbc (default)\n",
      "    Metadata:\n",
      "      title           : Video\n",
      "      encoder         : Lavc58.54.100 libx264\n",
      "    Side data:\n",
      "      cpb: bitrate max/min/avg: 0/0/0 buffer size: 0 vbv_delay: -1\n",
      "frame=13809 fps= 81 q=-1.0 Lsize=   56676kB time=00:09:35.25 bitrate= 807.1kbits/s dup=261 drop=3386 speed=3.38x    \n",
      "video:56513kB audio:0kB subtitle:0kB other streams:0kB global headers:0kB muxing overhead: 0.287947%\n",
      "[libx264 @ 0x7fa1fb80dc00] frame I:56    Avg QP:16.36  size: 76195\n",
      "[libx264 @ 0x7fa1fb80dc00] frame P:3506  Avg QP:19.72  size:  9893\n",
      "[libx264 @ 0x7fa1fb80dc00] frame B:10247 Avg QP:26.07  size:  1846\n",
      "[libx264 @ 0x7fa1fb80dc00] consecutive B-frames:  0.5%  0.8%  2.5% 96.2%\n",
      "[libx264 @ 0x7fa1fb80dc00] mb I  I16..4: 10.5% 72.0% 17.6%\n",
      "[libx264 @ 0x7fa1fb80dc00] mb P  I16..4:  1.2%  2.3%  0.2%  P16..4: 34.2% 10.0%  4.9%  0.0%  0.0%    skip:47.1%\n",
      "[libx264 @ 0x7fa1fb80dc00] mb B  I16..4:  0.1%  0.2%  0.0%  B16..8: 28.7%  0.8%  0.1%  direct: 0.3%  skip:69.8%  L0:45.8% L1:53.1% BI: 1.1%\n",
      "[libx264 @ 0x7fa1fb80dc00] 8x8 transform intra:62.9% inter:79.9%\n",
      "[libx264 @ 0x7fa1fb80dc00] coded y,uvDC,uvAC intra: 49.8% 70.8% 35.5% inter: 7.3% 5.6% 0.3%\n",
      "[libx264 @ 0x7fa1fb80dc00] i16 v,h,dc,p: 20% 22% 38% 20%\n",
      "[libx264 @ 0x7fa1fb80dc00] i8 v,h,dc,ddl,ddr,vr,hd,vl,hu: 24% 20% 26%  4%  5%  6%  5%  5%  5%\n",
      "[libx264 @ 0x7fa1fb80dc00] i4 v,h,dc,ddl,ddr,vr,hd,vl,hu: 36% 27% 13%  3%  5%  5%  5%  4%  3%\n",
      "[libx264 @ 0x7fa1fb80dc00] i8c dc,h,v,p: 46% 25% 20%  9%\n",
      "[libx264 @ 0x7fa1fb80dc00] Weighted P-Frames: Y:0.7% UV:0.0%\n",
      "[libx264 @ 0x7fa1fb80dc00] ref P L0: 58.8% 15.0% 20.4%  5.8%  0.0%\n",
      "[libx264 @ 0x7fa1fb80dc00] ref B L0: 89.8%  8.7%  1.6%\n",
      "[libx264 @ 0x7fa1fb80dc00] ref B L1: 93.9%  6.1%\n",
      "[libx264 @ 0x7fa1fb80dc00] kb/s:804.61\n",
      "ffmpeg version 4.2.2 Copyright (c) 2000-2019 the FFmpeg developers\n",
      "  built with clang version 4.0.1 (tags/RELEASE_401/final)\n",
      "  configuration: --prefix=/opt/concourse/worker/volumes/live/d5b9ea1c-8223-4ff6-7416-83e6b4cd6874/volume/ffmpeg_1587154914508/_h_env_placehold_placehold_placehold_placehold_placehold_placehold_placehold_placehold_placehold_placehold_placehold_placehold_placehold_placehold_placehol --cc=x86_64-apple-darwin13.4.0-clang --disable-doc --enable-avresample --enable-gmp --enable-hardcoded-tables --enable-libfreetype --enable-libvpx --enable-pthreads --enable-libopus --enable-postproc --enable-pic --enable-pthreads --enable-shared --enable-static --enable-version3 --enable-zlib --enable-libmp3lame --disable-nonfree --enable-gpl --enable-gnutls --disable-openssl --enable-libopenh264 --enable-libx264\n",
      "  libavutil      56. 31.100 / 56. 31.100\n",
      "  libavcodec     58. 54.100 / 58. 54.100\n",
      "  libavformat    58. 29.100 / 58. 29.100\n",
      "  libavdevice    58.  8.100 / 58.  8.100\n",
      "  libavfilter     7. 57.100 /  7. 57.100\n",
      "  libavresample   4.  0.  0 /  4.  0.  0\n",
      "  libswscale      5.  5.100 /  5.  5.100\n",
      "  libswresample   3.  5.100 /  3.  5.100\n",
      "  libpostproc    55.  5.100 / 55.  5.100\n",
      "Input #0, matroska,webm, from 'files/test_video_2/1674660535410-a7b0bec8-a1fd-4f9a-a922-e20bd56a539b-cam-video-1674660537995.webm':\n",
      "  Metadata:\n",
      "    encoder         : GStreamer matroskamux version 1.20.0\n",
      "    creation_time   : 2023-01-25T15:28:59.445933Z\n",
      "  Duration: N/A, start: 2.982000, bitrate: N/A\n",
      "    Stream #0:0(eng): Video: vp8, yuv420p(progressive), 1280x720, SAR 1:1 DAR 16:9, 1k tbr, 1k tbn, 1k tbc (default)\n",
      "    Metadata:\n",
      "      title           : Video\n",
      "Stream mapping:\n",
      "  Stream #0:0 -> #0:0 (vp8 (native) -> h264 (libx264))\n",
      "Press [q] to stop, [?] for help\n",
      "[libx264 @ 0x7f8e0501e800] using SAR=1/1\n",
      "[libx264 @ 0x7f8e0501e800] using cpu capabilities: MMX2 SSE2Fast SSSE3 SSE4.2 AVX FMA3 BMI2 AVX2\n",
      "[libx264 @ 0x7f8e0501e800] profile High, level 3.1, 4:2:0, 8-bit\n",
      "[libx264 @ 0x7f8e0501e800] 264 - core 157 - H.264/MPEG-4 AVC codec - Copyleft 2003-2018 - http://www.videolan.org/x264.html - options: cabac=1 ref=3 deblock=1:0:0 analyse=0x3:0x113 me=hex subme=7 psy=1 psy_rd=1.00:0.00 mixed_ref=1 me_range=16 chroma_me=1 trellis=1 8x8dct=1 cqm=0 deadzone=21,11 fast_pskip=1 chroma_qp_offset=-2 threads=12 lookahead_threads=2 sliced_threads=0 nr=0 decimate=1 interlaced=0 bluray_compat=0 constrained_intra=0 bframes=3 b_pyramid=2 b_adapt=1 b_bias=0 direct=1 weightb=1 open_gop=0 weightp=2 keyint=250 keyint_min=24 scenecut=40 intra_refresh=0 rc_lookahead=40 rc=crf mbtree=1 crf=23.0 qcomp=0.60 qpmin=0 qpmax=69 qpstep=4 ip_ratio=1.40 aq=1:1.00\n",
      "Output #0, mp4, to 'files/test_video_2/1674660535410-a7b0bec8-a1fd-4f9a-a922-e20bd56a539b-cam-video-1674660537995.mp4':\n",
      "  Metadata:\n",
      "    encoder         : Lavf58.29.100\n",
      "    Stream #0:0(eng): Video: h264 (libx264) (avc1 / 0x31637661), yuv420p, 1280x720 [SAR 1:1 DAR 16:9], q=-1--1, 24 fps, 12288 tbn, 24 tbc (default)\n",
      "    Metadata:\n",
      "      title           : Video\n",
      "      encoder         : Lavc58.54.100 libx264\n",
      "    Side data:\n",
      "      cpb: bitrate max/min/avg: 0/0/0 buffer size: 0 vbv_delay: -1\n"
     ]
    },
    {
     "name": "stdout",
     "output_type": "stream",
     "text": [
      "files/test_video_2/1674660535410-a7b0bec8-a1fd-4f9a-a922-e20bd56a539b-cam-video-1674660537995.webm files/test_video_2/1674660535410-a7b0bec8-a1fd-4f9a-a922-e20bd56a539b-cam-video-1674660537995.mp4\n"
     ]
    },
    {
     "name": "stderr",
     "output_type": "stream",
     "text": [
      "More than 1000 frames duplicated    6144kB time=00:00:27.25 bitrate=1847.0kbits/s dup=87 drop=86 speed=2.04x    \n",
      "frame=12600 fps=108 q=-1.0 Lsize=   54140kB time=00:08:44.87 bitrate= 845.0kbits/s dup=6913 drop=1020 speed= 4.5x    \n",
      "video:53993kB audio:0kB subtitle:0kB other streams:0kB global headers:0kB muxing overhead: 0.272304%\n",
      "[libx264 @ 0x7f8e0501e800] frame I:55    Avg QP:15.12  size: 80335\n",
      "[libx264 @ 0x7f8e0501e800] frame P:3333  Avg QP:19.07  size:  9665\n",
      "[libx264 @ 0x7f8e0501e800] frame B:9212  Avg QP:26.98  size:  2025\n",
      "[libx264 @ 0x7f8e0501e800] consecutive B-frames:  0.7%  3.2%  7.1% 89.0%\n",
      "[libx264 @ 0x7f8e0501e800] mb I  I16..4: 14.9% 53.1% 32.1%\n",
      "[libx264 @ 0x7f8e0501e800] mb P  I16..4:  2.4%  4.4%  0.8%  P16..4: 18.6%  6.8%  2.6%  0.0%  0.0%    skip:64.4%\n",
      "[libx264 @ 0x7f8e0501e800] mb B  I16..4:  0.3%  0.4%  0.0%  B16..8: 17.0%  1.2%  0.2%  direct: 1.2%  skip:79.7%  L0:50.5% L1:46.2% BI: 3.4%\n",
      "[libx264 @ 0x7f8e0501e800] 8x8 transform intra:57.0% inter:63.1%\n",
      "[libx264 @ 0x7f8e0501e800] coded y,uvDC,uvAC intra: 37.9% 51.2% 29.3% inter: 5.9% 5.0% 0.2%\n",
      "[libx264 @ 0x7f8e0501e800] i16 v,h,dc,p: 29% 21% 40%  9%\n",
      "[libx264 @ 0x7f8e0501e800] i8 v,h,dc,ddl,ddr,vr,hd,vl,hu: 30% 22% 31%  2%  2%  3%  3%  3%  4%\n",
      "[libx264 @ 0x7f8e0501e800] i4 v,h,dc,ddl,ddr,vr,hd,vl,hu: 40% 29% 13%  2%  3%  3%  4%  3%  3%\n",
      "[libx264 @ 0x7f8e0501e800] i8c dc,h,v,p: 44% 27% 24%  5%\n",
      "[libx264 @ 0x7f8e0501e800] Weighted P-Frames: Y:0.0% UV:0.0%\n",
      "[libx264 @ 0x7f8e0501e800] ref P L0: 58.3% 16.6% 18.6%  6.5%\n",
      "[libx264 @ 0x7f8e0501e800] ref B L0: 84.5% 13.0%  2.6%\n",
      "[libx264 @ 0x7f8e0501e800] ref B L1: 94.5%  5.5%\n",
      "[libx264 @ 0x7f8e0501e800] kb/s:842.49\n",
      "ffmpeg version 4.2.2 Copyright (c) 2000-2019 the FFmpeg developers\n",
      "  built with clang version 4.0.1 (tags/RELEASE_401/final)\n",
      "  configuration: --prefix=/opt/concourse/worker/volumes/live/d5b9ea1c-8223-4ff6-7416-83e6b4cd6874/volume/ffmpeg_1587154914508/_h_env_placehold_placehold_placehold_placehold_placehold_placehold_placehold_placehold_placehold_placehold_placehold_placehold_placehold_placehold_placehol --cc=x86_64-apple-darwin13.4.0-clang --disable-doc --enable-avresample --enable-gmp --enable-hardcoded-tables --enable-libfreetype --enable-libvpx --enable-pthreads --enable-libopus --enable-postproc --enable-pic --enable-pthreads --enable-shared --enable-static --enable-version3 --enable-zlib --enable-libmp3lame --disable-nonfree --enable-gpl --enable-gnutls --disable-openssl --enable-libopenh264 --enable-libx264\n",
      "  libavutil      56. 31.100 / 56. 31.100\n",
      "  libavcodec     58. 54.100 / 58. 54.100\n",
      "  libavformat    58. 29.100 / 58. 29.100\n",
      "  libavdevice    58.  8.100 / 58.  8.100\n",
      "  libavfilter     7. 57.100 /  7. 57.100\n",
      "  libavresample   4.  0.  0 /  4.  0.  0\n",
      "  libswscale      5.  5.100 /  5.  5.100\n",
      "  libswresample   3.  5.100 /  3.  5.100\n",
      "  libpostproc    55.  5.100 / 55.  5.100\n",
      "Input #0, matroska,webm, from 'files/test_video_2/1674660535410-ae4d075b-39b6-48ec-a7c0-868d6fd06afe-cam-video-1674660544002.webm':\n",
      "  Metadata:\n",
      "    encoder         : GStreamer matroskamux version 1.20.0\n",
      "    creation_time   : 2023-01-25T15:29:05.791730Z\n",
      "  Duration: N/A, start: 9.589000, bitrate: N/A\n",
      "    Stream #0:0(eng): Video: vp8, yuv420p(progressive), 1280x720, SAR 1:1 DAR 16:9, 1k tbr, 1k tbn, 1k tbc (default)\n",
      "    Metadata:\n",
      "      title           : Video\n",
      "Stream mapping:\n",
      "  Stream #0:0 -> #0:0 (vp8 (native) -> h264 (libx264))\n",
      "Press [q] to stop, [?] for help\n",
      "[libx264 @ 0x7ff681019600] using SAR=1/1\n",
      "[libx264 @ 0x7ff681019600] using cpu capabilities: MMX2 SSE2Fast SSSE3 SSE4.2 AVX FMA3 BMI2 AVX2\n",
      "[libx264 @ 0x7ff681019600] profile High, level 3.1, 4:2:0, 8-bit\n",
      "[libx264 @ 0x7ff681019600] 264 - core 157 - H.264/MPEG-4 AVC codec - Copyleft 2003-2018 - http://www.videolan.org/x264.html - options: cabac=1 ref=3 deblock=1:0:0 analyse=0x3:0x113 me=hex subme=7 psy=1 psy_rd=1.00:0.00 mixed_ref=1 me_range=16 chroma_me=1 trellis=1 8x8dct=1 cqm=0 deadzone=21,11 fast_pskip=1 chroma_qp_offset=-2 threads=12 lookahead_threads=2 sliced_threads=0 nr=0 decimate=1 interlaced=0 bluray_compat=0 constrained_intra=0 bframes=3 b_pyramid=2 b_adapt=1 b_bias=0 direct=1 weightb=1 open_gop=0 weightp=2 keyint=250 keyint_min=24 scenecut=40 intra_refresh=0 rc_lookahead=40 rc=crf mbtree=1 crf=23.0 qcomp=0.60 qpmin=0 qpmax=69 qpstep=4 ip_ratio=1.40 aq=1:1.00\n",
      "Output #0, mp4, to 'files/test_video_2/1674660535410-ae4d075b-39b6-48ec-a7c0-868d6fd06afe-cam-video-1674660544002.mp4':\n",
      "  Metadata:\n",
      "    encoder         : Lavf58.29.100\n",
      "    Stream #0:0(eng): Video: h264 (libx264) (avc1 / 0x31637661), yuv420p, 1280x720 [SAR 1:1 DAR 16:9], q=-1--1, 24 fps, 12288 tbn, 24 tbc (default)\n",
      "    Metadata:\n",
      "      title           : Video\n",
      "      encoder         : Lavc58.54.100 libx264\n",
      "    Side data:\n",
      "      cpb: bitrate max/min/avg: 0/0/0 buffer size: 0 vbv_delay: -1\n"
     ]
    },
    {
     "name": "stdout",
     "output_type": "stream",
     "text": [
      "files/test_video_2/1674660535410-ae4d075b-39b6-48ec-a7c0-868d6fd06afe-cam-video-1674660544002.webm files/test_video_2/1674660535410-ae4d075b-39b6-48ec-a7c0-868d6fd06afe-cam-video-1674660544002.mp4\n"
     ]
    },
    {
     "name": "stderr",
     "output_type": "stream",
     "text": [
      "frame=13683 fps= 88 q=-1.0 Lsize=   94220kB time=00:09:30.00 bitrate=1354.1kbits/s dup=375 drop=3106 speed=3.65x    \n",
      "video:94066kB audio:0kB subtitle:0kB other streams:0kB global headers:0kB muxing overhead: 0.164353%\n",
      "[libx264 @ 0x7ff681019600] frame I:56    Avg QP:15.99  size: 99017\n",
      "[libx264 @ 0x7ff681019600] frame P:3931  Avg QP:19.95  size: 14734\n",
      "[libx264 @ 0x7ff681019600] frame B:9696  Avg QP:27.36  size:  3389\n",
      "[libx264 @ 0x7ff681019600] consecutive B-frames:  0.7%  7.0% 22.8% 69.5%\n",
      "[libx264 @ 0x7ff681019600] mb I  I16..4: 12.5% 59.8% 27.6%\n",
      "[libx264 @ 0x7ff681019600] mb P  I16..4:  1.3%  3.7%  0.6%  P16..4: 27.9%  7.8%  3.5%  0.0%  0.0%    skip:55.0%\n",
      "[libx264 @ 0x7ff681019600] mb B  I16..4:  0.2%  0.4%  0.0%  B16..8: 26.9%  1.9%  0.3%  direct: 1.0%  skip:69.3%  L0:55.5% L1:38.9% BI: 5.7%\n",
      "[libx264 @ 0x7ff681019600] 8x8 transform intra:64.4% inter:54.3%\n",
      "[libx264 @ 0x7ff681019600] coded y,uvDC,uvAC intra: 55.2% 50.7% 20.5% inter: 11.1% 2.8% 0.1%\n",
      "[libx264 @ 0x7ff681019600] i16 v,h,dc,p: 21% 25% 29% 25%\n",
      "[libx264 @ 0x7ff681019600] i8 v,h,dc,ddl,ddr,vr,hd,vl,hu: 26% 20% 22%  4%  5%  7%  5%  6%  5%\n",
      "[libx264 @ 0x7ff681019600] i4 v,h,dc,ddl,ddr,vr,hd,vl,hu: 38% 23% 13%  4%  5%  6%  4%  4%  3%\n",
      "[libx264 @ 0x7ff681019600] i8c dc,h,v,p: 51% 24% 20%  5%\n",
      "[libx264 @ 0x7ff681019600] Weighted P-Frames: Y:5.0% UV:0.3%\n",
      "[libx264 @ 0x7ff681019600] ref P L0: 60.2% 18.3% 16.3%  4.8%  0.4%\n",
      "[libx264 @ 0x7ff681019600] ref B L0: 84.4% 14.0%  1.6%\n",
      "[libx264 @ 0x7ff681019600] ref B L1: 95.4%  4.6%\n",
      "[libx264 @ 0x7ff681019600] kb/s:1351.60\n"
     ]
    }
   ],
   "source": [
    "for filepath in files:\n",
    "    if filepath.endswith(\".mp4\") or \"audio\" in filepath:\n",
    "        continue\n",
    "    outfilePath = filepath.replace(\".webm\", \".mp4\")\n",
    "    print(filepath, outfilePath)\n",
    "    command = f'ffmpeg -i \"{filepath}\" -r 24 \"{outfilePath}\" -y'\n",
    "    subprocess.run(command, shell=True, check=True)"
   ]
  },
  {
   "cell_type": "markdown",
   "metadata": {},
   "source": [
    "# Mary's finalized code\n",
    "\n",
    "First, fill in silence based on the audio track's defined start time. `ffmpeg` command should look something like this\n",
    "\n",
    "```\n",
    "ffmpeg \\\n",
    "-i \"files/set_two/1677511696683-67eedcee-98bf-4f05-90f7-9e8ed2ce58cb-cam-audio-1677511704290.webm\" \\\n",
    "-i \"files/set_two/1677511696683-fc210681-bd73-4bfc-ac8d-1c5c606a9bd0-cam-audio-1677511697662.webm\" \\\n",
    "-filter_complex \"[0:a]adelay=7659|7659[a0]; [1:a]adelay=946|946[a1]; [a0][a1]amerge=inputs=2[a]\" -ac 2 -map \"[a]\" set_two_output_audio.webm\n",
    "```"
   ]
  },
  {
   "cell_type": "code",
   "execution_count": 11,
   "metadata": {},
   "outputs": [
    {
     "data": {
      "text/plain": [
       "['ffmpeg',\n",
       " '-i',\n",
       " 'files/test_video_2/1674660535410-2428b340-9dc1-40e7-831c-0703795b3307-cam-audio-1674660538423.webm',\n",
       " '-i',\n",
       " 'files/test_video_2/1674660535410-a7b0bec8-a1fd-4f9a-a922-e20bd56a539b-cam-audio-1674660537992.webm',\n",
       " '-i',\n",
       " 'files/test_video_2/1674660535410-ae4d075b-39b6-48ec-a7c0-868d6fd06afe-cam-audio-1674660543681.webm',\n",
       " '-filter_complex',\n",
       " '[0:a]adelay=2871|2871[a0]; [1:a]adelay=2445|2445[a1]; [2:a]adelay=8122|8122[a2]; [a0][a1][a2]amerge=inputs=3[a]',\n",
       " '-ac',\n",
       " '2',\n",
       " '-map',\n",
       " '[a]',\n",
       " 'output_audio.webm']"
      ]
     },
     "execution_count": 11,
     "metadata": {},
     "output_type": "execute_result"
    }
   ],
   "source": [
    "import subprocess\n",
    "# Start building the ffmpeg command\n",
    "ffmpeg_cmd = [\"ffmpeg\"]\n",
    "filter_complex = []\n",
    "input_count = 0\n",
    "\n",
    "# Loop through each item in group_data to configure inputs and filters\n",
    "for participant, data in group_data.items():\n",
    "    audio_path = data['audio']\n",
    "    # Convert audio_track_start to milliseconds and format it as integer\n",
    "    delay_ms = int(float(data['audio_track_start']) * 1000)\n",
    "    ffmpeg_cmd += [\"-i\", audio_path]\n",
    "    filter_complex.append(f\"[{input_count}:a]adelay={delay_ms}|{delay_ms}[a{input_count}]\")\n",
    "    input_count += 1\n",
    "\n",
    "# Merge the audio inputs\n",
    "filter_complex_str = '; '.join(filter_complex) + f\"; {''.join(f'[a{i}]' for i in range(input_count))}amerge=inputs={input_count}[a]\"\n",
    "ffmpeg_cmd += [\"-filter_complex\", filter_complex_str, \"-ac\", \"2\", \"-map\", \"[a]\", \"output_audio.webm\"]\n",
    "\n",
    "ffmpeg_cmd\n",
    "# Execute the command\n",
    "subprocess.run(ffmpeg_cmd)\n"
   ]
  },
  {
   "cell_type": "markdown",
   "metadata": {},
   "source": [
    "Next, take the merged audio and overlap it on top of the videos which are horizontally stacked. Should have an input that looks something like this\n",
    "\n",
    "The resampled mp4 files already account for video offests.\n",
    "```\n",
    "ffmpeg \\\n",
    "-i \"files/set_two/set_two_ffmpeg_resampled_person1.mp4\" \\\n",
    "-i \"files/set_two/set_two_ffmpeg_resampled_person2.mp4\" \\\n",
    "-i \"set_two_output_audio.webm\" \\\n",
    "-filter_complex \"[0:v]scale=1280:720[v0];[1:v]scale=1280:720[v1];[v0][v1]hstack=inputs=2[v]\" \\\n",
    "-map \"[v]\" -map 2:a \\\n",
    "files/set_two/set_two_combined_sepaudio.mp4\n",
    "```"
   ]
  },
  {
   "cell_type": "code",
   "execution_count": 12,
   "metadata": {},
   "outputs": [],
   "source": [
    "audio_inputs = [f'-itsoffset \"{ group_data[i][\"audio_track_start\"] }\" -i {group_data[i][\"audio\"]}' for i in group_data]\n",
    "video_inputs = [f'-itsoffset \"{ group_data[i][\"video_track_start\"] }\" -i {group_data[i][\"video\"].replace(\".webm\", \".mp4\")}' for i in group_data]\n",
    "file_names = [group_data[i][\"video\"].replace(\".webm\", \"\").split('/')[-1] for i in group_data]"
   ]
  },
  {
   "cell_type": "code",
   "execution_count": 13,
   "metadata": {},
   "outputs": [
    {
     "data": {
      "text/plain": [
       "['1674660535410-2428b340-9dc1-40e7-831c-0703795b3307-cam-video-1674660538745',\n",
       " '1674660535410-a7b0bec8-a1fd-4f9a-a922-e20bd56a539b-cam-video-1674660537995',\n",
       " '1674660535410-ae4d075b-39b6-48ec-a7c0-868d6fd06afe-cam-video-1674660544002']"
      ]
     },
     "execution_count": 13,
     "metadata": {},
     "output_type": "execute_result"
    }
   ],
   "source": [
    "file_names"
   ]
  },
  {
   "cell_type": "code",
   "execution_count": 15,
   "metadata": {},
   "outputs": [],
   "source": [
    "# merges each person once\n",
    "for i in range(len(video_inputs)):\n",
    "    cmd = f'ffmpeg {audio_inputs[i]} {video_inputs[i]} -filter_complex \"[1:v]scale=1280:720[v]\" -map \"0:a\" -map \"[v]\" files/{folder}/{file_names[i]}-merged.mp4'\n",
    "    result = subprocess.run(cmd, stdout=subprocess.PIPE, stderr=subprocess.PIPE, check=True)"
   ]
  },
  {
   "cell_type": "code",
   "execution_count": 4,
   "metadata": {},
   "outputs": [
    {
     "data": {
      "text/plain": [
       "['ffmpeg',\n",
       " '-i',\n",
       " 'files/test_video_2/1674660535410-2428b340-9dc1-40e7-831c-0703795b3307-cam-video-1674660538745-merged.mp4',\n",
       " '-i',\n",
       " 'files/test_video_2/1674660535410-a7b0bec8-a1fd-4f9a-a922-e20bd56a539b-cam-video-1674660537995-merged.mp4',\n",
       " '-i',\n",
       " 'files/test_video_2/1674660535410-ae4d075b-39b6-48ec-a7c0-868d6fd06afe-cam-video-1674660544002-merged.mp4',\n",
       " '-i',\n",
       " 'output_audio.webm',\n",
       " '-filter_complex',\n",
       " '[0:v]scale=1280:720[v0];[1:v]scale=1280:720[v1];[2:v]scale=1280:720[v2];[v0][v1][v2]hstack=inputs=3[v]',\n",
       " '-map',\n",
       " '[v]',\n",
       " '-map',\n",
       " '3:a',\n",
       " 'files/test_video_2/output_video_5122024_newtry.mp4']"
      ]
     },
     "execution_count": 4,
     "metadata": {},
     "output_type": "execute_result"
    }
   ],
   "source": [
    "audio_file = 'output_audio.webm'\n",
    "\n",
    "# Start building the ffmpeg command\n",
    "ffmpeg_cmd = [\"ffmpeg\"]\n",
    "filter_complex = []\n",
    "input_count = 0\n",
    "\n",
    "# Add video inputs to the ffmpeg command\n",
    "for participant, data in group_data.items():\n",
    "    video_path = data['video'].replace(\".webm\", \"-merged.mp4\")\n",
    "    ffmpeg_cmd += [\"-i\", video_path]\n",
    "    filter_complex.append(f\"[{input_count}:v]scale=1280:720[v{input_count}]\")\n",
    "    input_count += 1\n",
    "\n",
    "# Add audio input to the ffmpeg command\n",
    "ffmpeg_cmd += [\"-i\", audio_file]\n",
    "\n",
    "# Construct the horizontal stacking part of the filter\n",
    "hstack_str = f\"{''.join(f'[v{i}]' for i in range(input_count))}hstack=inputs={input_count}[v]\"\n",
    "\n",
    "# Combine video and audio\n",
    "filter_complex.append(hstack_str)\n",
    "filter_complex_str = ';'.join(filter_complex)\n",
    "\n",
    "# Finish building the ffmpeg command\n",
    "ffmpeg_cmd += [\"-filter_complex\", filter_complex_str, \"-map\", \"[v]\", \"-map\", f\"{input_count}:a\", f\"files/{folder}/output_video_5122024_newtry.mp4\"]\n",
    "ffmpeg_cmd\n",
    "# subprocess.run(ffmpeg_cmd, stdout=subprocess.PIPE, stderr=subprocess.PIPE, check=True)"
   ]
  },
  {
   "cell_type": "code",
   "execution_count": null,
   "metadata": {},
   "outputs": [],
   "source": [
    "ffmpeg \\\n",
    "-i \"files/set_two/set_two_ffmpeg_resampled_person1.mp4\" \\\n",
    "-i \"files/set_two/set_two_ffmpeg_resampled_person2.mp4\" \\\n",
    "-i \"set_two_output_audio.webm\" \\\n",
    "-filter_complex \"[0:v]scale=1280:720[v0];[1:v]scale=1280:720[v1];[v0][v1]hstack=inputs=2[v]\" \\\n",
    "-map \"[v]\" -map 2:a \\\n",
    "files/set_two/set_two_combined_sepaudio.mp4"
   ]
  }
 ],
 "metadata": {
  "kernelspec": {
   "display_name": "Python 3 (ipykernel)",
   "language": "python",
   "name": "python3"
  },
  "language_info": {
   "codemirror_mode": {
    "name": "ipython",
    "version": 3
   },
   "file_extension": ".py",
   "mimetype": "text/x-python",
   "name": "python",
   "nbconvert_exporter": "python",
   "pygments_lexer": "ipython3",
   "version": "3.11.5"
  }
 },
 "nbformat": 4,
 "nbformat_minor": 4
}
